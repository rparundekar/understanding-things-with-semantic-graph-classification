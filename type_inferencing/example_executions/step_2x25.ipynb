{
 "cells": [
  {
   "cell_type": "code",
   "execution_count": 1,
   "metadata": {
    "collapsed": false,
    "deletable": true,
    "editable": true
   },
   "outputs": [
    {
     "name": "stderr",
     "output_type": "stream",
     "text": [
      "Using TensorFlow backend.\n"
     ]
    }
   ],
   "source": [
    "from keras.models import Sequential\n",
    "from keras.layers import Dropout\n",
    "from keras.layers import Dense, Activation,Dropout\n",
    "from keras import regularizers\n",
    "from keras.layers.advanced_activations import LeakyReLU\n",
    "from keras.layers.normalization import BatchNormalization\n",
    "\n",
    "import numpy as np\n",
    "# fix random seed for reproducibility\n",
    "np.random.seed(42)\n",
    "\n",
    "import pandas as pd"
   ]
  },
  {
   "cell_type": "code",
   "execution_count": 2,
   "metadata": {
    "collapsed": true,
    "deletable": true,
    "editable": true
   },
   "outputs": [],
   "source": [
    "#Folder for the dataset\n",
    "datasetFolder = '/home/carnd/dbpedia2016/step_2x25/dataset/'\n",
    "\n",
    "#Number of files\n",
    "numberOfFiles = 638\n",
    "\n",
    "#Test split\n",
    "testSplit=0.2"
   ]
  },
  {
   "cell_type": "code",
   "execution_count": 3,
   "metadata": {
    "collapsed": false,
    "deletable": true,
    "editable": true
   },
   "outputs": [],
   "source": [
    "def load_data(datasetFolder, datasetXFile, datasetYFile, wrap=True, printIt=False):\n",
    "    #print('Loading X')\n",
    "    # load file\n",
    "    with open(datasetFolder + datasetXFile, \"r\") as f:\n",
    "        head = f.readline()\n",
    "        cols = head.split(',')\n",
    "        numberOfCols = len(cols)\n",
    "        #print(numberOfCols)\n",
    "        numberOfRows=0\n",
    "        for line in f:\n",
    "            numberOfRows+=1\n",
    "        f.close()\n",
    "    if(printIt):\n",
    "        print('Input Features: {} x {}'.format(numberOfRows,numberOfCols))\n",
    "    if(wrap==True):\n",
    "        maxY = 8384\n",
    "    else:\n",
    "        maxY = numberOfCols-1\n",
    "    half=(numberOfCols//maxY)*0.5\n",
    "    dataX = np.zeros([numberOfRows,maxY],np.int8)\n",
    "    with open(datasetFolder + datasetXFile, \"r\") as f:\n",
    "        head = f.readline()\n",
    "        rowCounter=0\n",
    "        for line in f:\n",
    "            row=line.split(',')\n",
    "            for i in range(1, len(row)):\n",
    "                if(int(row[i])<=0):\n",
    "                    continue;\n",
    "                val = 1 + ((int(row[i])-1)//maxY);\n",
    "                if(val>half):\n",
    "                    val = 0 - (val - half)\n",
    "                dataX[rowCounter][(int(row[i])-1)%maxY]= val\n",
    "                #if((1 + ((int(row[i])-1)//maxY))>1):\n",
    "                #    print(\"{} data[{}][{}] = {}\".format(int(row[i])-1, rowCounter,(int(row[i])-1)%maxY,1 + ((int(row[i])-1)//maxY)))\n",
    "            rowCounter+=1\n",
    "        f.close()\n",
    "   \n",
    "    #print('Loading Y')\n",
    "    # load file\n",
    "    with open(datasetFolder + datasetYFile, \"r\") as f:\n",
    "        head = f.readline()\n",
    "        cols = head.split(',')\n",
    "        numberOfCols = len(cols)\n",
    "        #print(numberOfCols)\n",
    "        numberOfRows=0\n",
    "        for line in f:\n",
    "            numberOfRows+=1\n",
    "        f.close()\n",
    "\n",
    "    if(printIt):\n",
    "        print('Output Features: {} x {}'.format(numberOfRows,numberOfCols))\n",
    "    dataY = np.zeros([numberOfRows,(numberOfCols-1)],np.float16)\n",
    "    with open(datasetFolder + datasetYFile, \"r\") as f:\n",
    "        head = f.readline()\n",
    "        rowCounter=0\n",
    "        for line in f:\n",
    "            row=line.split(',')\n",
    "            for i in range(1, len(row)):\n",
    "                if(int(row[i])<=0):\n",
    "                    continue;\n",
    "                dataY[rowCounter][(int(row[i])-1)]=1\n",
    "            rowCounter+=1\n",
    "        f.close()\n",
    "        \n",
    "\n",
    "    return dataX, dataY"
   ]
  },
  {
   "cell_type": "code",
   "execution_count": 4,
   "metadata": {
    "collapsed": false,
    "deletable": true,
    "editable": true
   },
   "outputs": [
    {
     "name": "stdout",
     "output_type": "stream",
     "text": [
      "Input Features: 1213 x 26546\n",
      "Output Features: 1213 x 526\n"
     ]
    }
   ],
   "source": [
    "dataX, dataY = load_data(datasetFolder,'datasetX_1.csv', 'datasetY_1.csv', printIt=True)"
   ]
  },
  {
   "cell_type": "code",
   "execution_count": 5,
   "metadata": {
    "collapsed": false,
    "deletable": true,
    "editable": true
   },
   "outputs": [],
   "source": [
    "dataX, dataY = load_data(datasetFolder,'datasetX_1.csv', 'datasetY_1.csv')"
   ]
  },
  {
   "cell_type": "code",
   "execution_count": 6,
   "metadata": {
    "collapsed": false,
    "deletable": true,
    "editable": true
   },
   "outputs": [
    {
     "name": "stdout",
     "output_type": "stream",
     "text": [
      "(1213, 8384)\n",
      "[[1 1 1 ..., 0 0 0]\n",
      " [0 0 0 ..., 0 0 0]\n",
      " [0 0 0 ..., 0 0 0]\n",
      " [0 0 0 ..., 0 0 0]\n",
      " [0 0 0 ..., 0 0 0]]\n"
     ]
    }
   ],
   "source": [
    "print(dataX.shape)\n",
    "print(dataX[0:5])"
   ]
  },
  {
   "cell_type": "code",
   "execution_count": 7,
   "metadata": {
    "collapsed": false,
    "deletable": true,
    "editable": true
   },
   "outputs": [
    {
     "name": "stdout",
     "output_type": "stream",
     "text": [
      "(1213, 525)\n",
      "[[ 0.  0.  0. ...,  0.  0.  0.]\n",
      " [ 0.  0.  0. ...,  0.  0.  0.]\n",
      " [ 0.  0.  0. ...,  0.  0.  0.]\n",
      " [ 0.  0.  0. ...,  0.  0.  0.]\n",
      " [ 0.  0.  0. ...,  0.  0.  0.]]\n"
     ]
    }
   ],
   "source": [
    "print(dataY.shape)\n",
    "print(dataY[0:5])"
   ]
  },
  {
   "cell_type": "code",
   "execution_count": 8,
   "metadata": {
    "collapsed": false,
    "deletable": true,
    "editable": true
   },
   "outputs": [
    {
     "name": "stdout",
     "output_type": "stream",
     "text": [
      "Input Features for classification: 8384\n",
      "Output Classes for classification: 525\n"
     ]
    }
   ],
   "source": [
    "print(\"Input Features for classification: {}\".format(dataX.shape[1]))\n",
    "print(\"Output Classes for classification: {}\".format(dataY.shape[1]))"
   ]
  },
  {
   "cell_type": "code",
   "execution_count": 9,
   "metadata": {
    "collapsed": false,
    "deletable": true,
    "editable": true
   },
   "outputs": [],
   "source": [
    "deepModel = Sequential(name='Deep Model (5 Dense Layers)')\n",
    "deepModel.add(Dense(1024, input_dim=dataX.shape[1], init='glorot_normal'))\n",
    "deepModel.add(BatchNormalization())\n",
    "deepModel.add(Activation('relu'))\n",
    "deepModel.add(Dropout(0.2))\n",
    "deepModel.add(Dense(1024, init='glorot_normal'))\n",
    "deepModel.add(BatchNormalization())\n",
    "deepModel.add(Activation('relu'))\n",
    "deepModel.add(Dropout(0.2))\n",
    "deepModel.add(Dense(1024, init='glorot_normal'))\n",
    "deepModel.add(BatchNormalization())\n",
    "deepModel.add(Activation('relu'))\n",
    "deepModel.add(Dropout(0.2))\n",
    "deepModel.add(Dense(1024, init='glorot_normal'))\n",
    "deepModel.add(BatchNormalization())\n",
    "deepModel.add(Activation('relu'))\n",
    "deepModel.add(Dropout(0.2))\n",
    "deepModel.add(Dense(1024, init='glorot_normal'))\n",
    "deepModel.add(BatchNormalization())\n",
    "deepModel.add(Activation('relu'))\n",
    "deepModel.add(Dropout(0.2))\n",
    "deepModel.add(Dense(dataY.shape[1], activation='sigmoid', init='glorot_normal'))\n",
    "models = [deepModel]"
   ]
  },
  {
   "cell_type": "code",
   "execution_count": 10,
   "metadata": {
    "collapsed": false,
    "deletable": true,
    "editable": true
   },
   "outputs": [],
   "source": [
    "# Compile model\n",
    "import keras.backend as K\n",
    "\n",
    "def count_predictions(y_true, y_pred):\n",
    "    true_positives = K.sum(K.round(K.clip(y_true * y_pred, 0, 1)))\n",
    "    predicted_positives = K.sum(K.round(K.clip(y_pred, 0, 1)))\n",
    "    possible_positives = K.sum(K.round(K.clip(y_true, 0, 1)))\n",
    "    return true_positives, predicted_positives, possible_positives\n",
    "\n",
    "def f1score(y_true, y_pred):\n",
    "    true_positives, predicted_positives, possible_positives = count_predictions(y_true, y_pred)\n",
    "    precision = true_positives / (predicted_positives + K.epsilon())\n",
    "    recall = true_positives / (possible_positives + K.epsilon())\n",
    "    f1score = 2.0 * precision * recall / (precision+recall+ K.epsilon())\n",
    "    return f1score\n",
    "\n",
    "def fBetaScore(y_true, y_pred, beta):\n",
    "    true_positives, predicted_positives, possible_positives = count_predictions(y_true, y_pred)\n",
    "    precision = true_positives / (predicted_positives + K.epsilon())\n",
    "    recall = true_positives / (possible_positives + K.epsilon())\n",
    "    f1score = (1+(beta*beta)) * precision * recall / ((beta*beta*precision)+recall+ K.epsilon())\n",
    "    return f1score\n",
    "\n",
    "for model in models:\n",
    "    model.compile(loss='binary_crossentropy', optimizer='nadam', metrics=[f1score])"
   ]
  },
  {
   "cell_type": "code",
   "execution_count": 11,
   "metadata": {
    "collapsed": false,
    "deletable": true,
    "editable": true
   },
   "outputs": [],
   "source": [
    "def fit_data(model, dataX, dataY):\n",
    "    # Fit the model\n",
    "    #model.fit(dataX, dataY, nb_epoch=5, verbose=2, batch_size=256)\n",
    "    return model.train_on_batch(dataX, dataY)"
   ]
  },
  {
   "cell_type": "code",
   "execution_count": 12,
   "metadata": {
    "collapsed": false,
    "deletable": true,
    "editable": true
   },
   "outputs": [],
   "source": [
    "def countPredictions(y_true, y_pred):\n",
    "    true_positives = np.sum(np.round(y_pred*y_true))\n",
    "    predicted_positives = np.sum(np.round(y_pred))\n",
    "    possible_positives = np.sum(y_true)\n",
    "    return true_positives, predicted_positives, possible_positives"
   ]
  },
  {
   "cell_type": "code",
   "execution_count": 13,
   "metadata": {
    "collapsed": false,
    "deletable": true,
    "editable": true,
    "scrolled": true
   },
   "outputs": [
    {
     "name": "stdout",
     "output_type": "stream",
     "text": [
      "1. Eon 1/10\n",
      " - Model = Deep Model (5 Dense Layers) \t f1-score = 0.8198\t precision = 0.8646 \t recall = 0.7796.0\n",
      "2. Eon 2/10\n",
      " - Model = Deep Model (5 Dense Layers) \t f1-score = 0.8239\t precision = 0.8643 \t recall = 0.7871.0\n",
      "3. Eon 3/10\n",
      " - Model = Deep Model (5 Dense Layers) \t f1-score = 0.8251\t precision = 0.8648 \t recall = 0.7890.0\n",
      "4. Eon 4/10\n",
      " - Model = Deep Model (5 Dense Layers) \t f1-score = 0.8254\t precision = 0.8671 \t recall = 0.7876.0\n",
      "5. Eon 5/10\n",
      " - Model = Deep Model (5 Dense Layers) \t f1-score = 0.8260\t precision = 0.8677 \t recall = 0.7882.0\n",
      "6. Eon 6/10\n",
      "Learning for file 210 / 510 : datasetX/Y_599\t\tloss=0.0047 f1score=0.8443\r"
     ]
    },
    {
     "ename": "KeyboardInterrupt",
     "evalue": "",
     "output_type": "error",
     "traceback": [
      "\u001b[0;31m---------------------------------------------------------------------------\u001b[0m",
      "\u001b[0;31mKeyboardInterrupt\u001b[0m                         Traceback (most recent call last)",
      "\u001b[0;32m<ipython-input-13-e3683595fa03>\u001b[0m in \u001b[0;36m<module>\u001b[0;34m()\u001b[0m\n\u001b[1;32m     16\u001b[0m             \u001b[0;31m#loss = sc[0]\u001b[0m\u001b[0;34m\u001b[0m\u001b[0;34m\u001b[0m\u001b[0m\n\u001b[1;32m     17\u001b[0m             \u001b[0;31m#f1score = sc[1]\u001b[0m\u001b[0;34m\u001b[0m\u001b[0;34m\u001b[0m\u001b[0m\n\u001b[0;32m---> 18\u001b[0;31m             \u001b[0mloss\u001b[0m\u001b[0;34m,\u001b[0m \u001b[0mf1score\u001b[0m\u001b[0;34m=\u001b[0m\u001b[0mfit_data\u001b[0m\u001b[0;34m(\u001b[0m\u001b[0mmodel\u001b[0m\u001b[0;34m,\u001b[0m\u001b[0mdataX\u001b[0m\u001b[0;34m,\u001b[0m \u001b[0mdataY\u001b[0m\u001b[0;34m)\u001b[0m\u001b[0;34m\u001b[0m\u001b[0m\n\u001b[0m\u001b[1;32m     19\u001b[0m             \u001b[0mprint\u001b[0m\u001b[0;34m(\u001b[0m\u001b[0;34m'Learning for file {} / {} : datasetX/Y_{}\\t\\tloss={:.4f} f1score={:.4f}'\u001b[0m\u001b[0;34m.\u001b[0m\u001b[0mformat\u001b[0m\u001b[0;34m(\u001b[0m\u001b[0mtrainIndex\u001b[0m\u001b[0;34m+\u001b[0m\u001b[0;36m1\u001b[0m\u001b[0;34m,\u001b[0m \u001b[0msplitIndex\u001b[0m\u001b[0;34m,\u001b[0m \u001b[0mlistOfFiles\u001b[0m\u001b[0;34m[\u001b[0m\u001b[0mtrainIndex\u001b[0m\u001b[0;34m]\u001b[0m\u001b[0;34m,\u001b[0m \u001b[0mloss\u001b[0m\u001b[0;34m,\u001b[0m \u001b[0mf1score\u001b[0m\u001b[0;34m)\u001b[0m\u001b[0;34m,\u001b[0m \u001b[0mend\u001b[0m\u001b[0;34m=\u001b[0m\u001b[0;34m'\\r'\u001b[0m\u001b[0;34m)\u001b[0m\u001b[0;34m\u001b[0m\u001b[0m\n\u001b[1;32m     20\u001b[0m \u001b[0;34m\u001b[0m\u001b[0m\n",
      "\u001b[0;32m<ipython-input-11-0f0017a70c40>\u001b[0m in \u001b[0;36mfit_data\u001b[0;34m(model, dataX, dataY)\u001b[0m\n\u001b[1;32m      2\u001b[0m     \u001b[0;31m# Fit the model\u001b[0m\u001b[0;34m\u001b[0m\u001b[0;34m\u001b[0m\u001b[0m\n\u001b[1;32m      3\u001b[0m     \u001b[0;31m#model.fit(dataX, dataY, nb_epoch=5, verbose=2, batch_size=256)\u001b[0m\u001b[0;34m\u001b[0m\u001b[0;34m\u001b[0m\u001b[0m\n\u001b[0;32m----> 4\u001b[0;31m     \u001b[0;32mreturn\u001b[0m \u001b[0mmodel\u001b[0m\u001b[0;34m.\u001b[0m\u001b[0mtrain_on_batch\u001b[0m\u001b[0;34m(\u001b[0m\u001b[0mdataX\u001b[0m\u001b[0;34m,\u001b[0m \u001b[0mdataY\u001b[0m\u001b[0;34m)\u001b[0m\u001b[0;34m\u001b[0m\u001b[0m\n\u001b[0m",
      "\u001b[0;32m/home/carnd/anaconda3/envs/dl/lib/python3.5/site-packages/keras/models.py\u001b[0m in \u001b[0;36mtrain_on_batch\u001b[0;34m(self, x, y, class_weight, sample_weight, **kwargs)\u001b[0m\n\u001b[1;32m    764\u001b[0m         return self.model.train_on_batch(x, y,\n\u001b[1;32m    765\u001b[0m                                          \u001b[0msample_weight\u001b[0m\u001b[0;34m=\u001b[0m\u001b[0msample_weight\u001b[0m\u001b[0;34m,\u001b[0m\u001b[0;34m\u001b[0m\u001b[0m\n\u001b[0;32m--> 766\u001b[0;31m                                          class_weight=class_weight)\n\u001b[0m\u001b[1;32m    767\u001b[0m \u001b[0;34m\u001b[0m\u001b[0m\n\u001b[1;32m    768\u001b[0m     def test_on_batch(self, x, y,\n",
      "\u001b[0;32m/home/carnd/anaconda3/envs/dl/lib/python3.5/site-packages/keras/engine/training.py\u001b[0m in \u001b[0;36mtrain_on_batch\u001b[0;34m(self, x, y, sample_weight, class_weight)\u001b[0m\n\u001b[1;32m   1318\u001b[0m             \u001b[0mins\u001b[0m \u001b[0;34m=\u001b[0m \u001b[0mx\u001b[0m \u001b[0;34m+\u001b[0m \u001b[0my\u001b[0m \u001b[0;34m+\u001b[0m \u001b[0msample_weights\u001b[0m\u001b[0;34m\u001b[0m\u001b[0m\n\u001b[1;32m   1319\u001b[0m         \u001b[0mself\u001b[0m\u001b[0;34m.\u001b[0m\u001b[0m_make_train_function\u001b[0m\u001b[0;34m(\u001b[0m\u001b[0;34m)\u001b[0m\u001b[0;34m\u001b[0m\u001b[0m\n\u001b[0;32m-> 1320\u001b[0;31m         \u001b[0moutputs\u001b[0m \u001b[0;34m=\u001b[0m \u001b[0mself\u001b[0m\u001b[0;34m.\u001b[0m\u001b[0mtrain_function\u001b[0m\u001b[0;34m(\u001b[0m\u001b[0mins\u001b[0m\u001b[0;34m)\u001b[0m\u001b[0;34m\u001b[0m\u001b[0m\n\u001b[0m\u001b[1;32m   1321\u001b[0m         \u001b[0;32mif\u001b[0m \u001b[0mlen\u001b[0m\u001b[0;34m(\u001b[0m\u001b[0moutputs\u001b[0m\u001b[0;34m)\u001b[0m \u001b[0;34m==\u001b[0m \u001b[0;36m1\u001b[0m\u001b[0;34m:\u001b[0m\u001b[0;34m\u001b[0m\u001b[0m\n\u001b[1;32m   1322\u001b[0m             \u001b[0;32mreturn\u001b[0m \u001b[0moutputs\u001b[0m\u001b[0;34m[\u001b[0m\u001b[0;36m0\u001b[0m\u001b[0;34m]\u001b[0m\u001b[0;34m\u001b[0m\u001b[0m\n",
      "\u001b[0;32m/home/carnd/anaconda3/envs/dl/lib/python3.5/site-packages/keras/backend/tensorflow_backend.py\u001b[0m in \u001b[0;36m__call__\u001b[0;34m(self, inputs)\u001b[0m\n\u001b[1;32m   1941\u001b[0m         \u001b[0msession\u001b[0m \u001b[0;34m=\u001b[0m \u001b[0mget_session\u001b[0m\u001b[0;34m(\u001b[0m\u001b[0;34m)\u001b[0m\u001b[0;34m\u001b[0m\u001b[0m\n\u001b[1;32m   1942\u001b[0m         updated = session.run(self.outputs + [self.updates_op],\n\u001b[0;32m-> 1943\u001b[0;31m                               feed_dict=feed_dict)\n\u001b[0m\u001b[1;32m   1944\u001b[0m         \u001b[0;32mreturn\u001b[0m \u001b[0mupdated\u001b[0m\u001b[0;34m[\u001b[0m\u001b[0;34m:\u001b[0m\u001b[0mlen\u001b[0m\u001b[0;34m(\u001b[0m\u001b[0mself\u001b[0m\u001b[0;34m.\u001b[0m\u001b[0moutputs\u001b[0m\u001b[0;34m)\u001b[0m\u001b[0;34m]\u001b[0m\u001b[0;34m\u001b[0m\u001b[0m\n\u001b[1;32m   1945\u001b[0m \u001b[0;34m\u001b[0m\u001b[0m\n",
      "\u001b[0;32m/home/carnd/anaconda3/envs/dl/lib/python3.5/site-packages/tensorflow/python/client/session.py\u001b[0m in \u001b[0;36mrun\u001b[0;34m(self, fetches, feed_dict, options, run_metadata)\u001b[0m\n\u001b[1;32m    765\u001b[0m     \u001b[0;32mtry\u001b[0m\u001b[0;34m:\u001b[0m\u001b[0;34m\u001b[0m\u001b[0m\n\u001b[1;32m    766\u001b[0m       result = self._run(None, fetches, feed_dict, options_ptr,\n\u001b[0;32m--> 767\u001b[0;31m                          run_metadata_ptr)\n\u001b[0m\u001b[1;32m    768\u001b[0m       \u001b[0;32mif\u001b[0m \u001b[0mrun_metadata\u001b[0m\u001b[0;34m:\u001b[0m\u001b[0;34m\u001b[0m\u001b[0m\n\u001b[1;32m    769\u001b[0m         \u001b[0mproto_data\u001b[0m \u001b[0;34m=\u001b[0m \u001b[0mtf_session\u001b[0m\u001b[0;34m.\u001b[0m\u001b[0mTF_GetBuffer\u001b[0m\u001b[0;34m(\u001b[0m\u001b[0mrun_metadata_ptr\u001b[0m\u001b[0;34m)\u001b[0m\u001b[0;34m\u001b[0m\u001b[0m\n",
      "\u001b[0;32m/home/carnd/anaconda3/envs/dl/lib/python3.5/site-packages/tensorflow/python/client/session.py\u001b[0m in \u001b[0;36m_run\u001b[0;34m(self, handle, fetches, feed_dict, options, run_metadata)\u001b[0m\n\u001b[1;32m    963\u001b[0m     \u001b[0;32mif\u001b[0m \u001b[0mfinal_fetches\u001b[0m \u001b[0;32mor\u001b[0m \u001b[0mfinal_targets\u001b[0m\u001b[0;34m:\u001b[0m\u001b[0;34m\u001b[0m\u001b[0m\n\u001b[1;32m    964\u001b[0m       results = self._do_run(handle, final_targets, final_fetches,\n\u001b[0;32m--> 965\u001b[0;31m                              feed_dict_string, options, run_metadata)\n\u001b[0m\u001b[1;32m    966\u001b[0m     \u001b[0;32melse\u001b[0m\u001b[0;34m:\u001b[0m\u001b[0;34m\u001b[0m\u001b[0m\n\u001b[1;32m    967\u001b[0m       \u001b[0mresults\u001b[0m \u001b[0;34m=\u001b[0m \u001b[0;34m[\u001b[0m\u001b[0;34m]\u001b[0m\u001b[0;34m\u001b[0m\u001b[0m\n",
      "\u001b[0;32m/home/carnd/anaconda3/envs/dl/lib/python3.5/site-packages/tensorflow/python/client/session.py\u001b[0m in \u001b[0;36m_do_run\u001b[0;34m(self, handle, target_list, fetch_list, feed_dict, options, run_metadata)\u001b[0m\n\u001b[1;32m   1013\u001b[0m     \u001b[0;32mif\u001b[0m \u001b[0mhandle\u001b[0m \u001b[0;32mis\u001b[0m \u001b[0;32mNone\u001b[0m\u001b[0;34m:\u001b[0m\u001b[0;34m\u001b[0m\u001b[0m\n\u001b[1;32m   1014\u001b[0m       return self._do_call(_run_fn, self._session, feed_dict, fetch_list,\n\u001b[0;32m-> 1015\u001b[0;31m                            target_list, options, run_metadata)\n\u001b[0m\u001b[1;32m   1016\u001b[0m     \u001b[0;32melse\u001b[0m\u001b[0;34m:\u001b[0m\u001b[0;34m\u001b[0m\u001b[0m\n\u001b[1;32m   1017\u001b[0m       return self._do_call(_prun_fn, self._session, handle, feed_dict,\n",
      "\u001b[0;32m/home/carnd/anaconda3/envs/dl/lib/python3.5/site-packages/tensorflow/python/client/session.py\u001b[0m in \u001b[0;36m_do_call\u001b[0;34m(self, fn, *args)\u001b[0m\n\u001b[1;32m   1020\u001b[0m   \u001b[0;32mdef\u001b[0m \u001b[0m_do_call\u001b[0m\u001b[0;34m(\u001b[0m\u001b[0mself\u001b[0m\u001b[0;34m,\u001b[0m \u001b[0mfn\u001b[0m\u001b[0;34m,\u001b[0m \u001b[0;34m*\u001b[0m\u001b[0margs\u001b[0m\u001b[0;34m)\u001b[0m\u001b[0;34m:\u001b[0m\u001b[0;34m\u001b[0m\u001b[0m\n\u001b[1;32m   1021\u001b[0m     \u001b[0;32mtry\u001b[0m\u001b[0;34m:\u001b[0m\u001b[0;34m\u001b[0m\u001b[0m\n\u001b[0;32m-> 1022\u001b[0;31m       \u001b[0;32mreturn\u001b[0m \u001b[0mfn\u001b[0m\u001b[0;34m(\u001b[0m\u001b[0;34m*\u001b[0m\u001b[0margs\u001b[0m\u001b[0;34m)\u001b[0m\u001b[0;34m\u001b[0m\u001b[0m\n\u001b[0m\u001b[1;32m   1023\u001b[0m     \u001b[0;32mexcept\u001b[0m \u001b[0merrors\u001b[0m\u001b[0;34m.\u001b[0m\u001b[0mOpError\u001b[0m \u001b[0;32mas\u001b[0m \u001b[0me\u001b[0m\u001b[0;34m:\u001b[0m\u001b[0;34m\u001b[0m\u001b[0m\n\u001b[1;32m   1024\u001b[0m       \u001b[0mmessage\u001b[0m \u001b[0;34m=\u001b[0m \u001b[0mcompat\u001b[0m\u001b[0;34m.\u001b[0m\u001b[0mas_text\u001b[0m\u001b[0;34m(\u001b[0m\u001b[0me\u001b[0m\u001b[0;34m.\u001b[0m\u001b[0mmessage\u001b[0m\u001b[0;34m)\u001b[0m\u001b[0;34m\u001b[0m\u001b[0m\n",
      "\u001b[0;32m/home/carnd/anaconda3/envs/dl/lib/python3.5/site-packages/tensorflow/python/client/session.py\u001b[0m in \u001b[0;36m_run_fn\u001b[0;34m(session, feed_dict, fetch_list, target_list, options, run_metadata)\u001b[0m\n\u001b[1;32m   1002\u001b[0m         return tf_session.TF_Run(session, options,\n\u001b[1;32m   1003\u001b[0m                                  \u001b[0mfeed_dict\u001b[0m\u001b[0;34m,\u001b[0m \u001b[0mfetch_list\u001b[0m\u001b[0;34m,\u001b[0m \u001b[0mtarget_list\u001b[0m\u001b[0;34m,\u001b[0m\u001b[0;34m\u001b[0m\u001b[0m\n\u001b[0;32m-> 1004\u001b[0;31m                                  status, run_metadata)\n\u001b[0m\u001b[1;32m   1005\u001b[0m \u001b[0;34m\u001b[0m\u001b[0m\n\u001b[1;32m   1006\u001b[0m     \u001b[0;32mdef\u001b[0m \u001b[0m_prun_fn\u001b[0m\u001b[0;34m(\u001b[0m\u001b[0msession\u001b[0m\u001b[0;34m,\u001b[0m \u001b[0mhandle\u001b[0m\u001b[0;34m,\u001b[0m \u001b[0mfeed_dict\u001b[0m\u001b[0;34m,\u001b[0m \u001b[0mfetch_list\u001b[0m\u001b[0;34m)\u001b[0m\u001b[0;34m:\u001b[0m\u001b[0;34m\u001b[0m\u001b[0m\n",
      "\u001b[0;31mKeyboardInterrupt\u001b[0m: "
     ]
    }
   ],
   "source": [
    "#Randomize the list of numbers so we can split train and test dataset\n",
    "listOfFiles=list(range(1,numberOfFiles+1))\n",
    "import random\n",
    "random.shuffle(listOfFiles)\n",
    "splitIndex=int((1-testSplit)*numberOfFiles)\n",
    "\n",
    "numberOfEons = 10\n",
    "for model in models:\n",
    "    for eon in range(0, numberOfEons):\n",
    "        print('{}. Eon {}/{}'.format(eon+1,eon+1, numberOfEons))\n",
    "        for trainIndex in range(0,splitIndex):\n",
    "            dataX, dataY = load_data(datasetFolder,'datasetX_{}.csv'.format(listOfFiles[trainIndex]), 'datasetY_{}.csv'.format(listOfFiles[trainIndex]))\n",
    "            #print('Model = {}'.format(model.name))\n",
    "            #model.fit(dataX, dataY, nb_epoch=1, verbose=0, batch_size=512)\n",
    "            #sc=model.test_on_batch(dataX,dataY)\n",
    "            #loss = sc[0]\n",
    "            #f1score = sc[1]\n",
    "            loss, f1score=fit_data(model,dataX, dataY)\n",
    "            print('Learning for file {} / {} : datasetX/Y_{}\\t\\tloss={:.4f} f1score={:.4f}'.format(trainIndex+1, splitIndex, listOfFiles[trainIndex], loss, f1score), end='\\r')\n",
    "\n",
    "        counts = {} \n",
    "    \n",
    "        counts[model.name] = {'true_positives':0, 'predicted_positives':0, 'possible_positives':0}\n",
    "    \n",
    "        for testIndex in range(splitIndex, numberOfFiles):\n",
    "            dataX, dataY = load_data(datasetFolder,'datasetX_{}.csv'.format(listOfFiles[testIndex]), 'datasetY_{}.csv'.format(listOfFiles[testIndex]))\n",
    "            predY=model.predict_on_batch(dataX)\n",
    "            true_positives, predicted_positives, possible_positives = countPredictions(dataY, predY)\n",
    "            counts[model.name]['true_positives'] += true_positives\n",
    "            counts[model.name]['predicted_positives'] += predicted_positives\n",
    "            counts[model.name]['possible_positives'] += possible_positives\n",
    "            print ('Testing for file {} / {} : datasetX/Y_{} - true +ve:{}  pred +ve:{} possible +ve:{}'.format(testIndex+1, numberOfFiles, listOfFiles[testIndex], true_positives,predicted_positives,possible_positives), end='\\r')\n",
    "    \n",
    "        count = counts[model.name]\n",
    "        precision = (count['true_positives'])/(count['predicted_positives']+0.0001)\n",
    "        recall = (count['true_positives'])/(count['possible_positives']+0.0001)\n",
    "        f1score = 2.0 * precision * recall / (precision+recall+0.0001)\n",
    "        print(' - Model = {} \\t f1-score = {:.4f}\\t precision = {:.4f} \\t recall = {:.4f}'.format(model.name, f1score, precision, recall))"
   ]
  },
  {
   "cell_type": "markdown",
   "metadata": {
    "deletable": true,
    "editable": true
   },
   "source": [
    "==================================================\n",
    "# step_2x25 (exact)\n",
    "==================================================\n",
    "1. Eon 1/10\n",
    " - Model = Deep Model (5 Dense Layers) \t f1-score = 0.8345\t precision = 0.8826 \t recall = 0.791484.00\n",
    "2. Eon 2/10\n",
    " - Model = Deep Model (5 Dense Layers) \t f1-score = 0.8381\t precision = 0.8830 \t recall = 0.797784.00\n",
    "3. Eon 3/10\n",
    " - Model = Deep Model (5 Dense Layers) \t f1-score = 0.8398\t precision = 0.8827 \t recall = 0.801084.00\n",
    "4. Eon 4/10\n",
    " - Model = Deep Model (5 Dense Layers) \t f1-score = 0.8399\t precision = 0.8839 \t recall = 0.800184.00\n",
    "5. Eon 5/10\n",
    " - Model = Deep Model (5 Dense Layers) \t f1-score = 0.8401\t precision = 0.8830 \t recall = 0.801284.00\n",
    " \n",
    "==================================================\n",
    "# step_2x25 (upto)\n",
    "==================================================\n",
    "1. Eon 1/10\n",
    " - Model = Deep Model (5 Dense Layers) \t f1-score = 0.8198\t precision = 0.8646 \t recall = 0.7796.0\n",
    "2. Eon 2/10\n",
    " - Model = Deep Model (5 Dense Layers) \t f1-score = 0.8239\t precision = 0.8643 \t recall = 0.7871.0\n",
    "3. Eon 3/10\n",
    " - Model = Deep Model (5 Dense Layers) \t f1-score = 0.8251\t precision = 0.8648 \t recall = 0.7890.0\n",
    "4. Eon 4/10\n",
    " - Model = Deep Model (5 Dense Layers) \t f1-score = 0.8254\t precision = 0.8671 \t recall = 0.7876.0\n",
    "5. Eon 5/10\n",
    " - Model = Deep Model (5 Dense Layers) \t f1-score = 0.8260\t precision = 0.8677 \t recall = 0.7882.0"
   ]
  },
  {
   "cell_type": "code",
   "execution_count": null,
   "metadata": {
    "collapsed": true,
    "deletable": true,
    "editable": true
   },
   "outputs": [],
   "source": []
  },
  {
   "cell_type": "code",
   "execution_count": null,
   "metadata": {
    "collapsed": true,
    "deletable": true,
    "editable": true
   },
   "outputs": [],
   "source": []
  }
 ],
 "metadata": {
  "anaconda-cloud": {},
  "kernelspec": {
   "display_name": "Python 3",
   "language": "python",
   "name": "python3"
  },
  "language_info": {
   "codemirror_mode": {
    "name": "ipython",
    "version": 3
   },
   "file_extension": ".py",
   "mimetype": "text/x-python",
   "name": "python",
   "nbconvert_exporter": "python",
   "pygments_lexer": "ipython3",
   "version": "3.5.2"
  },
  "widgets": {
   "state": {},
   "version": "1.1.2"
  }
 },
 "nbformat": 4,
 "nbformat_minor": 1
}
