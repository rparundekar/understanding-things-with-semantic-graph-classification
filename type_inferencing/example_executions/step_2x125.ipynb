{
 "cells": [
  {
   "cell_type": "code",
   "execution_count": 1,
   "metadata": {
    "collapsed": false,
    "deletable": true,
    "editable": true
   },
   "outputs": [
    {
     "name": "stderr",
     "output_type": "stream",
     "text": [
      "Using TensorFlow backend.\n"
     ]
    }
   ],
   "source": [
    "from keras.models import Sequential\n",
    "from keras.layers import Dropout\n",
    "from keras.layers import Input, Dense, Activation,Dropout\n",
    "from keras import regularizers\n",
    "from keras.layers.advanced_activations import LeakyReLU\n",
    "from keras.layers.normalization import BatchNormalization\n",
    "\n",
    "import numpy as np\n",
    "# fix random seed for reproducibility\n",
    "np.random.seed(42)\n",
    "\n",
    "import pandas as pd"
   ]
  },
  {
   "cell_type": "code",
   "execution_count": 2,
   "metadata": {
    "collapsed": true,
    "deletable": true,
    "editable": true
   },
   "outputs": [],
   "source": [
    "#Folder for the dataset\n",
    "datasetFolder = '/home/carnd/dbpedia2016/step_2x125/dataset/'\n",
    "\n",
    "#Number of files\n",
    "numberOfFiles = 638\n",
    "\n",
    "#Test split\n",
    "testSplit=0.1\n",
    "validationSplit=0.2"
   ]
  },
  {
   "cell_type": "code",
   "execution_count": 3,
   "metadata": {
    "collapsed": false,
    "deletable": true,
    "editable": true
   },
   "outputs": [],
   "source": [
    "def load_data(datasetFolder, datasetXFile, datasetYFile, wrap=True, printIt=False):\n",
    "    #print('Loading X')\n",
    "    # load file\n",
    "    with open(datasetFolder + datasetXFile, \"r\") as f:\n",
    "        head = f.readline()\n",
    "        cols = head.split(',')\n",
    "        numberOfCols = len(cols)\n",
    "        #print(numberOfCols)\n",
    "        numberOfRows=0\n",
    "        for line in f:\n",
    "            numberOfRows+=1\n",
    "        f.close()\n",
    "    if(printIt):\n",
    "        print('Input Features: {} x {}'.format(numberOfRows,numberOfCols))\n",
    "    if(wrap==True):\n",
    "        maxY = 8384\n",
    "    else:\n",
    "        maxY = numberOfCols-1\n",
    "    half=(numberOfCols//maxY)*0.5\n",
    "    dataX = np.zeros([numberOfRows,maxY],np.int8)\n",
    "    with open(datasetFolder + datasetXFile, \"r\") as f:\n",
    "        head = f.readline()\n",
    "        rowCounter=0\n",
    "        for line in f:\n",
    "            row=line.split(',')\n",
    "            for i in range(1, len(row)):\n",
    "                if(int(row[i])<=0):\n",
    "                    continue;\n",
    "                val = 1 + ((int(row[i])-1)//maxY);\n",
    "                if(val>half):\n",
    "                    val = 0 - (val - half)\n",
    "                dataX[rowCounter][(int(row[i])-1)%maxY]= val\n",
    "                #if((1 + ((int(row[i])-1)//maxY))>1):\n",
    "                #    print(\"{} data[{}][{}] = {}\".format(int(row[i])-1, rowCounter,(int(row[i])-1)%maxY,1 + ((int(row[i])-1)//maxY)))\n",
    "            rowCounter+=1\n",
    "        f.close()\n",
    "   \n",
    "    #print('Loading Y')\n",
    "    # load file\n",
    "    with open(datasetFolder + datasetYFile, \"r\") as f:\n",
    "        head = f.readline()\n",
    "        cols = head.split(',')\n",
    "        numberOfCols = len(cols)\n",
    "        #print(numberOfCols)\n",
    "        numberOfRows=0\n",
    "        for line in f:\n",
    "            numberOfRows+=1\n",
    "        f.close()\n",
    "\n",
    "    if(printIt):\n",
    "        print('Output Features: {} x {}'.format(numberOfRows,numberOfCols))\n",
    "    dataY = np.zeros([numberOfRows,(numberOfCols-1)],np.float16)\n",
    "    with open(datasetFolder + datasetYFile, \"r\") as f:\n",
    "        head = f.readline()\n",
    "        rowCounter=0\n",
    "        for line in f:\n",
    "            row=line.split(',')\n",
    "            for i in range(1, len(row)):\n",
    "                if(int(row[i])<=0):\n",
    "                    continue;\n",
    "                dataY[rowCounter][(int(row[i])-1)]=1\n",
    "            rowCounter+=1\n",
    "        f.close()\n",
    "        \n",
    "\n",
    "    return dataX, dataY"
   ]
  },
  {
   "cell_type": "code",
   "execution_count": 4,
   "metadata": {
    "collapsed": false,
    "deletable": true,
    "editable": true
   },
   "outputs": [
    {
     "name": "stdout",
     "output_type": "stream",
     "text": [
      "Input Features: 3825 x 159766\n",
      "Output Features: 3825 x 526\n"
     ]
    }
   ],
   "source": [
    "dataX, dataY = load_data(datasetFolder,'datasetX_1.csv', 'datasetY_1.csv', printIt=True)"
   ]
  },
  {
   "cell_type": "code",
   "execution_count": 5,
   "metadata": {
    "collapsed": false,
    "deletable": true,
    "editable": true
   },
   "outputs": [],
   "source": [
    "dataX, dataY = load_data(datasetFolder,'datasetX_1.csv', 'datasetY_1.csv')"
   ]
  },
  {
   "cell_type": "code",
   "execution_count": 6,
   "metadata": {
    "collapsed": false,
    "deletable": true,
    "editable": true
   },
   "outputs": [
    {
     "name": "stdout",
     "output_type": "stream",
     "text": [
      "(3825, 8384)\n",
      "[[1 1 1 ..., 0 0 0]\n",
      " [0 0 0 ..., 0 0 0]\n",
      " [0 0 0 ..., 0 0 0]\n",
      " [0 0 0 ..., 0 0 0]\n",
      " [0 0 0 ..., 0 0 0]]\n"
     ]
    }
   ],
   "source": [
    "print(dataX.shape)\n",
    "print(dataX[0:5])"
   ]
  },
  {
   "cell_type": "code",
   "execution_count": 7,
   "metadata": {
    "collapsed": false,
    "deletable": true,
    "editable": true
   },
   "outputs": [
    {
     "name": "stdout",
     "output_type": "stream",
     "text": [
      "(3825, 525)\n",
      "[[ 0.  1.  1. ...,  0.  0.  0.]\n",
      " [ 0.  0.  0. ...,  0.  0.  0.]\n",
      " [ 0.  0.  0. ...,  0.  0.  0.]\n",
      " [ 0.  0.  0. ...,  0.  0.  0.]\n",
      " [ 0.  0.  0. ...,  0.  0.  0.]]\n"
     ]
    }
   ],
   "source": [
    "print(dataY.shape)\n",
    "print(dataY[0:5])"
   ]
  },
  {
   "cell_type": "code",
   "execution_count": 8,
   "metadata": {
    "collapsed": false,
    "deletable": true,
    "editable": true
   },
   "outputs": [
    {
     "name": "stdout",
     "output_type": "stream",
     "text": [
      "Input Features for classification: 8384\n",
      "Output Classes for classification: 525\n"
     ]
    }
   ],
   "source": [
    "print(\"Input Features for classification: {}\".format(dataX.shape[1]))\n",
    "print(\"Output Classes for classification: {}\".format(dataY.shape[1]))"
   ]
  },
  {
   "cell_type": "code",
   "execution_count": 9,
   "metadata": {
    "collapsed": false,
    "deletable": true,
    "editable": true
   },
   "outputs": [],
   "source": [
    "deepModel = Sequential(name='Deep Model (5 Dense Layers)')\n",
    "deepModel.add(Dense(2048, input_dim=dataX.shape[1], init='glorot_normal'))\n",
    "deepModel.add(BatchNormalization())\n",
    "deepModel.add(Activation('relu'))\n",
    "deepModel.add(Dropout(0.2))\n",
    "deepModel.add(Dense(1024, init='glorot_normal'))\n",
    "deepModel.add(BatchNormalization())\n",
    "deepModel.add(Activation('relu'))\n",
    "deepModel.add(Dropout(0.2))\n",
    "deepModel.add(Dense(768, init='glorot_normal'))\n",
    "deepModel.add(BatchNormalization())\n",
    "deepModel.add(Activation('relu'))\n",
    "deepModel.add(Dropout(0.2))\n",
    "deepModel.add(Dense(512, init='glorot_normal'))\n",
    "deepModel.add(BatchNormalization())\n",
    "deepModel.add(Activation('relu'))\n",
    "deepModel.add(Dropout(0.2))\n",
    "deepModel.add(Dense(256, init='glorot_normal'))\n",
    "deepModel.add(BatchNormalization())\n",
    "deepModel.add(Activation('relu'))\n",
    "deepModel.add(Dropout(0.2))\n",
    "deepModel.add(Dense(dataY.shape[1], activation='sigmoid', init='glorot_normal'))"
   ]
  },
  {
   "cell_type": "code",
   "execution_count": 10,
   "metadata": {
    "collapsed": false,
    "deletable": true,
    "editable": true
   },
   "outputs": [],
   "source": [
    "# Compile model\n",
    "import keras.backend as K\n",
    "\n",
    "def count_predictions(y_true, y_pred):\n",
    "    true_positives = K.sum(K.round(K.clip(y_true * y_pred, 0, 1)))\n",
    "    predicted_positives = K.sum(K.round(K.clip(y_pred, 0, 1)))\n",
    "    possible_positives = K.sum(K.round(K.clip(y_true, 0, 1)))\n",
    "    return true_positives, predicted_positives, possible_positives\n",
    "\n",
    "def f1score(y_true, y_pred):\n",
    "    true_positives, predicted_positives, possible_positives = count_predictions(y_true, y_pred)\n",
    "    precision = true_positives / (predicted_positives + K.epsilon())\n",
    "    recall = true_positives / (possible_positives + K.epsilon())\n",
    "    f1score = 2.0 * precision * recall / (precision+recall+ K.epsilon())\n",
    "    return f1score\n",
    "\n",
    "def fBetaScore(y_true, y_pred, beta):\n",
    "    true_positives, predicted_positives, possible_positives = count_predictions(y_true, y_pred)\n",
    "    precision = true_positives / (predicted_positives + K.epsilon())\n",
    "    recall = true_positives / (possible_positives + K.epsilon())\n",
    "    f1score = (1+(beta*beta)) * precision * recall / ((beta*beta*precision)+recall+ K.epsilon())\n",
    "    return f1score\n",
    "\n",
    "\n",
    "deepModel.compile(loss='binary_crossentropy', optimizer='nadam', metrics=[f1score])"
   ]
  },
  {
   "cell_type": "code",
   "execution_count": 11,
   "metadata": {
    "collapsed": false,
    "deletable": true,
    "editable": true
   },
   "outputs": [],
   "source": [
    "def fit_data(model, dataX, dataY):\n",
    "    # Fit the model\n",
    "    #model.fit(dataX, dataY, nb_epoch=5, verbose=2, batch_size=256)\n",
    "    return model.train_on_batch(dataX, dataY)"
   ]
  },
  {
   "cell_type": "code",
   "execution_count": 12,
   "metadata": {
    "collapsed": false,
    "deletable": true,
    "editable": true
   },
   "outputs": [],
   "source": [
    "def countPredictions(y_true, y_pred):\n",
    "    true_positives = np.sum(np.round(y_pred*y_true))\n",
    "    predicted_positives = np.sum(np.round(y_pred))\n",
    "    possible_positives = np.sum(y_true)\n",
    "    return true_positives, predicted_positives, possible_positives"
   ]
  },
  {
   "cell_type": "code",
   "execution_count": 13,
   "metadata": {
    "collapsed": false,
    "deletable": true,
    "editable": true,
    "scrolled": true
   },
   "outputs": [
    {
     "name": "stdout",
     "output_type": "stream",
     "text": [
      "1. Eon 1/8\n",
      " - Model = Deep Model (5 Dense Layers) \t f1-score = 0.8510\t precision = 0.8957 \t recall = 0.8107\n",
      "2. Eon 2/8\n",
      " - Model = Deep Model (5 Dense Layers) \t f1-score = 0.8598\t precision = 0.8986 \t recall = 0.8242\n",
      "3. Eon 3/8\n",
      " - Model = Deep Model (5 Dense Layers) \t f1-score = 0.8627\t precision = 0.8993 \t recall = 0.8290\n",
      "4. Eon 4/8\n",
      " - Model = Deep Model (5 Dense Layers) \t f1-score = 0.8644\t precision = 0.9031 \t recall = 0.8290\n",
      "5. Eon 5/8\n",
      " - Model = Deep Model (5 Dense Layers) \t f1-score = 0.8657\t precision = 0.9023 \t recall = 0.8321\n",
      "6. Eon 6/8\n",
      " - Model = Deep Model (5 Dense Layers) \t f1-score = 0.8668\t precision = 0.9003 \t recall = 0.8358\n",
      "7. Eon 7/8\n",
      " - Model = Deep Model (5 Dense Layers) \t f1-score = 0.8663\t precision = 0.9020 \t recall = 0.8335\n",
      "8. Eon 8/8\n",
      " - Model = Deep Model (5 Dense Layers) \t f1-score = 0.8668\t precision = 0.8988 \t recall = 0.8371\n",
      " - Final Test Score for Deep Model (5 Dense Layers) \t f1-score = 0.8668\t precision = 0.8987 \t recall = 0.8371\n"
     ]
    }
   ],
   "source": [
    "#Randomize the list of numbers so we can split train and test dataset\n",
    "listOfFiles=list(range(1,numberOfFiles+1))\n",
    "import random\n",
    "random.shuffle(listOfFiles)\n",
    "splitIndex=int((1-(testSplit+validationSplit))*numberOfFiles)\n",
    "testSplitIndex=int((1-(testSplit))*numberOfFiles)\n",
    "\n",
    "\n",
    "numberOfEons = 8\n",
    "    \n",
    "for eon in range(0, numberOfEons):\n",
    "    print('{}. Eon {}/{}'.format(eon+1,eon+1, numberOfEons))\n",
    "    for trainIndex in range(0,splitIndex):\n",
    "        dataX, dataY = load_data(datasetFolder,'datasetX_{}.csv'.format(listOfFiles[trainIndex]), 'datasetY_{}.csv'.format(listOfFiles[trainIndex]))\n",
    "        #print('Model = {}'.format(model.name))\n",
    "        deepModel.fit(dataX, dataY, nb_epoch=1, verbose=0, batch_size=256)\n",
    "        print('Learning deep model for file {} / {} : datasetX/Y_{}'.format(trainIndex+1, splitIndex, listOfFiles[trainIndex]), end='\\r')\n",
    "        #sc=deepModel.test_on_batch(dataX,dataY)\n",
    "        #loss = sc[0]\n",
    "        #f1score = sc[1]\n",
    "        #loss, f1score=fit_data(deepModel,dataX, dataY)\n",
    "        #print('Learning deep model for file {} / {} : datasetX/Y_{} loss={:.4f}  f1score={:.4f}'.format(trainIndex+1, splitIndex, listOfFiles[trainIndex], loss, f1score), end='\\r')\n",
    "\n",
    "    counts = {} \n",
    "    counts[deepModel.name] = {'true_positives':0, 'predicted_positives':0, 'possible_positives':0}\n",
    "    for testIndex in range(splitIndex, testSplitIndex):\n",
    "        dataX, dataY = load_data(datasetFolder,'datasetX_{}.csv'.format(listOfFiles[testIndex]), 'datasetY_{}.csv'.format(listOfFiles[testIndex]))\n",
    "        predY=deepModel.predict_on_batch(dataX)\n",
    "        true_positives, predicted_positives, possible_positives = countPredictions(dataY, predY)\n",
    "        counts[deepModel.name]['true_positives'] += true_positives\n",
    "        counts[deepModel.name]['predicted_positives'] += predicted_positives\n",
    "        counts[deepModel.name]['possible_positives'] += possible_positives\n",
    "        print ('Validating deep model {} / {} : - true +ve:{}  pred +ve:{} possible +ve:{}'.format(testIndex+1, testSplitIndex, true_positives,predicted_positives,possible_positives), end='\\r')\n",
    "\n",
    "    count = counts[deepModel.name]\n",
    "    precision = (count['true_positives'])/(count['predicted_positives']+0.0001)\n",
    "    recall = (count['true_positives'])/(count['possible_positives']+0.0001)\n",
    "    f1score = 2.0 * precision * recall / (precision+recall+0.0001)\n",
    "    print(' - Model = {} \\t f1-score = {:.4f}\\t precision = {:.4f} \\t recall = {:.4f}'.format(deepModel.name, f1score, precision, recall))\n",
    "\n",
    "counts = {} \n",
    "counts[deepModel.name] = {'true_positives':0, 'predicted_positives':0, 'possible_positives':0}\n",
    "for testIndex in range(testSplitIndex, numberOfFiles):\n",
    "    dataX, dataY = load_data(datasetFolder,'datasetX_{}.csv'.format(listOfFiles[testIndex]), 'datasetY_{}.csv'.format(listOfFiles[testIndex]))\n",
    "    predY=deepModel.predict_on_batch(dataX)\n",
    "    true_positives, predicted_positives, possible_positives = countPredictions(dataY, predY)\n",
    "    counts[deepModel.name]['true_positives'] += true_positives\n",
    "    counts[deepModel.name]['predicted_positives'] += predicted_positives\n",
    "    counts[deepModel.name]['possible_positives'] += possible_positives\n",
    "    print ('Testing deep model {} / {} : - true +ve:{}  pred +ve:{} possible +ve:{}'.format(testIndex+1, numberOfFiles, true_positives,predicted_positives,possible_positives), end='\\r')\n",
    "\n",
    "count = counts[deepModel.name]\n",
    "precision = (count['true_positives'])/(count['predicted_positives']+0.0001)\n",
    "recall = (count['true_positives'])/(count['possible_positives']+0.0001)\n",
    "f1score = 2.0 * precision * recall / (precision+recall+0.0001)\n",
    "print(' - Final Test Score for {} \\t f1-score = {:.4f}\\t precision = {:.4f} \\t recall = {:.4f}'.format(deepModel.name, f1score, precision, recall))"
   ]
  },
  {
   "cell_type": "markdown",
   "metadata": {
    "collapsed": true,
    "deletable": true,
    "editable": true
   },
   "source": [
    "1. Eon 1/8\n",
    " - Model = Deep Model (5 Dense Layers) \t f1-score = 0.8510\t precision = 0.8957 \t recall = 0.8107\n",
    "2. Eon 2/8\n",
    " - Model = Deep Model (5 Dense Layers) \t f1-score = 0.8598\t precision = 0.8986 \t recall = 0.8242\n",
    "3. Eon 3/8\n",
    " - Model = Deep Model (5 Dense Layers) \t f1-score = 0.8627\t precision = 0.8993 \t recall = 0.8290\n",
    "4. Eon 4/8\n",
    " - Model = Deep Model (5 Dense Layers) \t f1-score = 0.8644\t precision = 0.9031 \t recall = 0.8290\n",
    "5. Eon 5/8\n",
    " - Model = Deep Model (5 Dense Layers) \t f1-score = 0.8657\t precision = 0.9023 \t recall = 0.8321\n",
    "6. Eon 6/8\n",
    " - Model = Deep Model (5 Dense Layers) \t f1-score = 0.8668\t precision = 0.9003 \t recall = 0.8358\n",
    "7. Eon 7/8\n",
    " - Model = Deep Model (5 Dense Layers) \t f1-score = 0.8663\t precision = 0.9020 \t recall = 0.8335\n",
    "8. Eon 8/8\n",
    " - Model = Deep Model (5 Dense Layers) \t f1-score = 0.8668\t precision = 0.8988 \t recall = 0.8371\n",
    " - Final Test Score for Deep Model (5 Dense Layers) \t f1-score = 0.8668\t precision = 0.8987 \t recall = 0.8371"
   ]
  },
  {
   "cell_type": "code",
   "execution_count": null,
   "metadata": {
    "collapsed": true,
    "deletable": true,
    "editable": true
   },
   "outputs": [],
   "source": []
  }
 ],
 "metadata": {
  "anaconda-cloud": {},
  "kernelspec": {
   "display_name": "Python 3",
   "language": "python",
   "name": "python3"
  },
  "language_info": {
   "codemirror_mode": {
    "name": "ipython",
    "version": 3
   },
   "file_extension": ".py",
   "mimetype": "text/x-python",
   "name": "python",
   "nbconvert_exporter": "python",
   "pygments_lexer": "ipython3",
   "version": "3.5.2"
  },
  "widgets": {
   "state": {},
   "version": "1.1.2"
  }
 },
 "nbformat": 4,
 "nbformat_minor": 1
}
