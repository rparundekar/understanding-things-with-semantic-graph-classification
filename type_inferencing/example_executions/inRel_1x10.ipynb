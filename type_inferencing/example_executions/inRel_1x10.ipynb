{
 "cells": [
  {
   "cell_type": "code",
   "execution_count": 1,
   "metadata": {
    "collapsed": false,
    "deletable": true,
    "editable": true
   },
   "outputs": [
    {
     "name": "stderr",
     "output_type": "stream",
     "text": [
      "Using TensorFlow backend.\n"
     ]
    }
   ],
   "source": [
    "from keras.models import Sequential\n",
    "from keras.layers import Dropout\n",
    "from keras.layers import Dense, Activation,Dropout\n",
    "from keras import regularizers\n",
    "from keras.layers.advanced_activations import LeakyReLU\n",
    "from keras.layers.normalization import BatchNormalization\n",
    "\n",
    "import numpy as np\n",
    "# fix random seed for reproducibility\n",
    "np.random.seed(42)\n",
    "\n",
    "import pandas as pd"
   ]
  },
  {
   "cell_type": "code",
   "execution_count": 2,
   "metadata": {
    "collapsed": true,
    "deletable": true,
    "editable": true
   },
   "outputs": [],
   "source": [
    "#Folder for the dataset\n",
    "datasetFolder = '/home/carnd/dbpedia2016/inRel_1x10/dataset/'\n",
    "\n",
    "#Number of files\n",
    "numberOfFiles = 638\n",
    "\n",
    "#Test split\n",
    "testSplit=0.2"
   ]
  },
  {
   "cell_type": "code",
   "execution_count": 3,
   "metadata": {
    "collapsed": false,
    "deletable": true,
    "editable": true
   },
   "outputs": [],
   "source": [
    "def load_data(datasetFolder, datasetXFile, datasetYFile, wrap=False, printIt=False):\n",
    "    #print('Loading X')\n",
    "    # load file\n",
    "    with open(datasetFolder + datasetXFile, \"r\") as f:\n",
    "        head = f.readline()\n",
    "        cols = head.split(',')\n",
    "        numberOfCols = len(cols)\n",
    "        #print(numberOfCols)\n",
    "        numberOfRows=0\n",
    "        for line in f:\n",
    "            numberOfRows+=1\n",
    "        f.close()\n",
    "    if(printIt):\n",
    "        print('Input Features: {} x {}'.format(numberOfRows,numberOfCols))\n",
    "    if(wrap==True):\n",
    "        maxY = 1000\n",
    "        shift = (1+((numberOfCols-1)//maxY))*0.5\n",
    "    else:\n",
    "        maxY = numberOfCols-1\n",
    "        shift = 0.5\n",
    "        \n",
    "    dataX = np.zeros([numberOfRows,maxY],np.float16)\n",
    "    with open(datasetFolder + datasetXFile, \"r\") as f:\n",
    "        head = f.readline()\n",
    "        rowCounter=0\n",
    "        for line in f:\n",
    "            row=line.split(',')\n",
    "            for i in range(1, len(row)):\n",
    "                if(int(row[i])<=0):\n",
    "                    continue;\n",
    "                dataX[rowCounter][(int(row[i])-1)%maxY]=1 + ((int(row[i])-1)//maxY) - shift\n",
    "                #if((1 + ((int(row[i])-1)//maxY))>1):\n",
    "                #    print(\"{} data[{}][{}] = {}\".format(int(row[i])-1, rowCounter,(int(row[i])-1)%maxY,1 + ((int(row[i])-1)//maxY)))\n",
    "            rowCounter+=1\n",
    "        f.close()\n",
    "   \n",
    "    #print('Loading Y')\n",
    "    # load file\n",
    "    with open(datasetFolder + datasetYFile, \"r\") as f:\n",
    "        head = f.readline()\n",
    "        cols = head.split(',')\n",
    "        numberOfCols = len(cols)\n",
    "        #print(numberOfCols)\n",
    "        numberOfRows=0\n",
    "        for line in f:\n",
    "            numberOfRows+=1\n",
    "        f.close()\n",
    "\n",
    "    if(printIt):\n",
    "        print('Output Features: {} x {}'.format(numberOfRows,numberOfCols))\n",
    "    dataY = np.zeros([numberOfRows,(numberOfCols-1)],np.float16)\n",
    "    with open(datasetFolder + datasetYFile, \"r\") as f:\n",
    "        head = f.readline()\n",
    "        rowCounter=0\n",
    "        for line in f:\n",
    "            row=line.split(',')\n",
    "            for i in range(1, len(row)):\n",
    "                if(int(row[i])<=0):\n",
    "                    continue;\n",
    "                dataY[rowCounter][(int(row[i])-1)]=1\n",
    "            rowCounter+=1\n",
    "        f.close()\n",
    "        \n",
    "\n",
    "    return dataX, dataY"
   ]
  },
  {
   "cell_type": "code",
   "execution_count": 4,
   "metadata": {
    "collapsed": false,
    "deletable": true,
    "editable": true
   },
   "outputs": [
    {
     "name": "stdout",
     "output_type": "stream",
     "text": [
      "Input Features: 1109 x 1044\n",
      "Output Features: 1109 x 526\n"
     ]
    }
   ],
   "source": [
    "dataX, dataY = load_data(datasetFolder,'datasetX_1.csv', 'datasetY_1.csv', printIt=True)"
   ]
  },
  {
   "cell_type": "code",
   "execution_count": 5,
   "metadata": {
    "collapsed": true,
    "deletable": true,
    "editable": true
   },
   "outputs": [],
   "source": [
    "dataX, dataY = load_data(datasetFolder,'datasetX_1.csv', 'datasetY_1.csv')"
   ]
  },
  {
   "cell_type": "code",
   "execution_count": 6,
   "metadata": {
    "collapsed": false,
    "deletable": true,
    "editable": true
   },
   "outputs": [
    {
     "name": "stdout",
     "output_type": "stream",
     "text": [
      "(1109, 1043)\n",
      "[[ 0.5  0.   0.  ...,  0.   0.   0. ]\n",
      " [ 0.   0.5  0.5 ...,  0.   0.   0. ]\n",
      " [ 0.   0.   0.  ...,  0.   0.   0. ]\n",
      " [ 0.   0.   0.  ...,  0.   0.   0. ]\n",
      " [ 0.   0.   0.  ...,  0.   0.   0. ]]\n"
     ]
    }
   ],
   "source": [
    "print(dataX.shape)\n",
    "print(dataX[0:5])"
   ]
  },
  {
   "cell_type": "code",
   "execution_count": 7,
   "metadata": {
    "collapsed": false,
    "deletable": true,
    "editable": true
   },
   "outputs": [
    {
     "name": "stdout",
     "output_type": "stream",
     "text": [
      "(1109, 525)\n",
      "[[ 0.  0.  0. ...,  0.  0.  0.]\n",
      " [ 0.  0.  0. ...,  0.  0.  0.]\n",
      " [ 0.  0.  0. ...,  0.  0.  0.]\n",
      " [ 0.  0.  0. ...,  0.  0.  0.]\n",
      " [ 0.  0.  0. ...,  0.  0.  0.]]\n"
     ]
    }
   ],
   "source": [
    "print(dataY.shape)\n",
    "print(dataY[0:5])"
   ]
  },
  {
   "cell_type": "code",
   "execution_count": 8,
   "metadata": {
    "collapsed": false,
    "deletable": true,
    "editable": true
   },
   "outputs": [
    {
     "name": "stdout",
     "output_type": "stream",
     "text": [
      "Input Features for classification: 1043\n",
      "Output Classes for classification: 525\n"
     ]
    }
   ],
   "source": [
    "print(\"Input Features for classification: {}\".format(dataX.shape[1]))\n",
    "print(\"Output Classes for classification: {}\".format(dataY.shape[1]))"
   ]
  },
  {
   "cell_type": "code",
   "execution_count": 9,
   "metadata": {
    "collapsed": false,
    "deletable": true,
    "editable": true
   },
   "outputs": [],
   "source": [
    "logisticRegression = Sequential(name='Simple Logistic Regression')\n",
    "logisticRegression.add(Dense(dataY.shape[1], input_dim=dataX.shape[1], activation='sigmoid', init='glorot_uniform'))\n",
    "\n",
    "deepModel = Sequential(name='Deep Model (5 Dense Layers)')\n",
    "deepModel.add(Dense(1048, input_dim=dataX.shape[1], init='glorot_normal'))\n",
    "deepModel.add(BatchNormalization())\n",
    "deepModel.add(Activation('relu'))\n",
    "deepModel.add(Dropout(0.2))\n",
    "deepModel.add(Dense(1048, init='glorot_normal'))\n",
    "deepModel.add(BatchNormalization())\n",
    "deepModel.add(Activation('relu'))\n",
    "deepModel.add(Dropout(0.2))\n",
    "deepModel.add(Dense(1048, init='glorot_normal'))\n",
    "deepModel.add(BatchNormalization())\n",
    "deepModel.add(Activation('relu'))\n",
    "deepModel.add(Dropout(0.2))\n",
    "deepModel.add(Dense(dataY.shape[1], activation='sigmoid', init='glorot_normal'))\n",
    "\n",
    "reallyDeepModel = Sequential(name='Deep Model (8 Dense Layers)')\n",
    "reallyDeepModel.add(Dense(512, input_dim=dataX.shape[1], init='glorot_normal'))\n",
    "reallyDeepModel.add(BatchNormalization())\n",
    "reallyDeepModel.add(Activation('relu'))\n",
    "reallyDeepModel.add(Dropout(0.2))\n",
    "reallyDeepModel.add(Dense(512, input_dim=dataX.shape[1], init='glorot_normal'))\n",
    "reallyDeepModel.add(BatchNormalization())\n",
    "reallyDeepModel.add(Activation('relu'))\n",
    "reallyDeepModel.add(Dropout(0.2))\n",
    "reallyDeepModel.add(Dense(512, input_dim=dataX.shape[1], init='glorot_normal'))\n",
    "reallyDeepModel.add(BatchNormalization())\n",
    "reallyDeepModel.add(Activation('relu'))\n",
    "reallyDeepModel.add(Dropout(0.2))\n",
    "reallyDeepModel.add(Dense(512, input_dim=dataX.shape[1], init='glorot_normal'))\n",
    "reallyDeepModel.add(BatchNormalization())\n",
    "reallyDeepModel.add(Activation('relu'))\n",
    "reallyDeepModel.add(Dropout(0.2))\n",
    "reallyDeepModel.add(Dense(512, input_dim=dataX.shape[1], init='glorot_normal'))\n",
    "reallyDeepModel.add(BatchNormalization())\n",
    "reallyDeepModel.add(Activation('relu'))\n",
    "reallyDeepModel.add(Dropout(0.2))\n",
    "reallyDeepModel.add(Dense(512, input_dim=dataX.shape[1], init='glorot_normal'))\n",
    "reallyDeepModel.add(BatchNormalization())\n",
    "reallyDeepModel.add(Activation('relu'))\n",
    "reallyDeepModel.add(Dropout(0.2))\n",
    "reallyDeepModel.add(Dense(512, input_dim=dataX.shape[1], init='glorot_normal'))\n",
    "reallyDeepModel.add(BatchNormalization())\n",
    "reallyDeepModel.add(Activation('relu'))\n",
    "reallyDeepModel.add(Dropout(0.2))\n",
    "reallyDeepModel.add(Dense(dataY.shape[1], activation='sigmoid', init='glorot_normal'))\n",
    "\n",
    "models = [logisticRegression, deepModel, reallyDeepModel]"
   ]
  },
  {
   "cell_type": "code",
   "execution_count": 10,
   "metadata": {
    "collapsed": false,
    "deletable": true,
    "editable": true
   },
   "outputs": [],
   "source": [
    "# Compile model\n",
    "import keras.backend as K\n",
    "\n",
    "def count_predictions(y_true, y_pred):\n",
    "    true_positives = K.sum(K.round(K.clip(y_true * y_pred, 0, 1)))\n",
    "    predicted_positives = K.sum(K.round(K.clip(y_pred, 0, 1)))\n",
    "    possible_positives = K.sum(K.round(K.clip(y_true, 0, 1)))\n",
    "    return true_positives, predicted_positives, possible_positives\n",
    "\n",
    "def f1score(y_true, y_pred):\n",
    "    true_positives, predicted_positives, possible_positives = count_predictions(y_true, y_pred)\n",
    "    precision = true_positives / (predicted_positives + K.epsilon())\n",
    "    recall = true_positives / (possible_positives + K.epsilon())\n",
    "    f1score = 2.0 * precision * recall / (precision+recall+ K.epsilon())\n",
    "    return f1score\n",
    "\n",
    "def fBetaScore(y_true, y_pred, beta):\n",
    "    true_positives, predicted_positives, possible_positives = count_predictions(y_true, y_pred)\n",
    "    precision = true_positives / (predicted_positives + K.epsilon())\n",
    "    recall = true_positives / (possible_positives + K.epsilon())\n",
    "    f1score = (1+(beta*beta)) * precision * recall / ((beta*beta*precision)+recall+ K.epsilon())\n",
    "    return f1score\n",
    "\n",
    "for model in models:\n",
    "    model.compile(loss='binary_crossentropy', optimizer='nadam', metrics=[f1score])"
   ]
  },
  {
   "cell_type": "code",
   "execution_count": 11,
   "metadata": {
    "collapsed": false,
    "deletable": true,
    "editable": true
   },
   "outputs": [],
   "source": [
    "def fit_data(model, dataX, dataY):\n",
    "    # Fit the model\n",
    "    #model.fit(dataX, dataY, nb_epoch=5, verbose=2, batch_size=256)\n",
    "    return model.train_on_batch(dataX, dataY)"
   ]
  },
  {
   "cell_type": "code",
   "execution_count": 12,
   "metadata": {
    "collapsed": false,
    "deletable": true,
    "editable": true
   },
   "outputs": [],
   "source": [
    "def countPredictions(y_true, y_pred):\n",
    "    true_positives = np.sum(np.round(y_pred*y_true))\n",
    "    predicted_positives = np.sum(np.round(y_pred))\n",
    "    possible_positives = np.sum(y_true)\n",
    "    return true_positives, predicted_positives, possible_positives"
   ]
  },
  {
   "cell_type": "code",
   "execution_count": 13,
   "metadata": {
    "collapsed": false,
    "deletable": true,
    "editable": true,
    "scrolled": true
   },
   "outputs": [
    {
     "name": "stdout",
     "output_type": "stream",
     "text": [
      "1. Eon 1/5\n",
      " - Model = Simple Logistic Regression \t f1-score = 0.4301\t precision = 0.8443 \t recall = 0.28864.0\n",
      " - Model = Deep Model (5 Dense Layers) \t f1-score = 0.7358\t precision = 0.7354 \t recall = 0.7364\n",
      " - Model = Deep Model (8 Dense Layers) \t f1-score = 0.7563\t precision = 0.7667 \t recall = 0.7463\n",
      "2. Eon 2/5\n",
      " - Model = Simple Logistic Regression \t f1-score = 0.5531\t precision = 0.8394 \t recall = 0.41254.0\n",
      " - Model = Deep Model (5 Dense Layers) \t f1-score = 0.7558\t precision = 0.7705 \t recall = 0.7417\n",
      " - Model = Deep Model (8 Dense Layers) \t f1-score = 0.7498\t precision = 0.7774 \t recall = 0.7242\n",
      "3. Eon 3/5\n",
      " - Model = Simple Logistic Regression \t f1-score = 0.6015\t precision = 0.8289 \t recall = 0.47214.0\n",
      " - Model = Deep Model (5 Dense Layers) \t f1-score = 0.7632\t precision = 0.7740 \t recall = 0.7529\n",
      " - Model = Deep Model (8 Dense Layers) \t f1-score = 0.7565\t precision = 0.7786 \t recall = 0.7357\n",
      "4. Eon 4/5\n",
      " - Model = Simple Logistic Regression \t f1-score = 0.6360\t precision = 0.8245 \t recall = 0.51774.0\n",
      " - Model = Deep Model (5 Dense Layers) \t f1-score = 0.7625\t precision = 0.7781 \t recall = 0.7476\n",
      " - Model = Deep Model (8 Dense Layers) \t f1-score = 0.7630\t precision = 0.7726 \t recall = 0.7537\n",
      "5. Eon 5/5\n",
      " - Model = Simple Logistic Regression \t f1-score = 0.6557\t precision = 0.8245 \t recall = 0.54444.0\n",
      " - Model = Deep Model (5 Dense Layers) \t f1-score = 0.7619\t precision = 0.7806 \t recall = 0.7442\n",
      " - Model = Deep Model (8 Dense Layers) \t f1-score = 0.7612\t precision = 0.7736 \t recall = 0.7493\n"
     ]
    }
   ],
   "source": [
    "#Randomize the list of numbers so we can split train and test dataset\n",
    "listOfFiles=list(range(1,numberOfFiles+1))\n",
    "import random\n",
    "random.shuffle(listOfFiles)\n",
    "splitIndex=int((1-testSplit)*numberOfFiles)\n",
    "\n",
    "numberOfEons = 5\n",
    "for eon in range(0, numberOfEons):\n",
    "    print('{}. Eon {}/{}'.format(eon+1,eon+1, numberOfEons))\n",
    "    for trainIndex in range(0,splitIndex):\n",
    "        dataX, dataY = load_data(datasetFolder,'datasetX_{}.csv'.format(listOfFiles[trainIndex]), 'datasetY_{}.csv'.format(listOfFiles[trainIndex]))\n",
    "        for model in models:\n",
    "            #print('Model = {}'.format(model.name))\n",
    "            model.fit(dataX, dataY, nb_epoch=1, verbose=0, batch_size=512)\n",
    "            sc=model.test_on_batch(dataX,dataY)\n",
    "            loss = sc[0]\n",
    "            f1score = sc[1]\n",
    "            #loss, f1score=fit_data(model,dataX, dataY)\n",
    "            print('Learning for file {} / {} : datasetX/Y_{}\\t\\tloss={:.4f} f1score={:.4f}'.format(trainIndex+1, splitIndex, listOfFiles[trainIndex], loss, f1score), end='\\r')\n",
    "        \n",
    "    counts = {} \n",
    "    for model in models:\n",
    "        counts[model.name] = {'true_positives':0, 'predicted_positives':0, 'possible_positives':0}\n",
    "    \n",
    "    for testIndex in range(splitIndex, numberOfFiles):\n",
    "        dataX, dataY = load_data(datasetFolder,'datasetX_{}.csv'.format(listOfFiles[testIndex]), 'datasetY_{}.csv'.format(listOfFiles[testIndex]))\n",
    "        for model in models:\n",
    "            predY=model.predict_on_batch(dataX)\n",
    "            true_positives, predicted_positives, possible_positives = countPredictions(dataY, predY)\n",
    "            counts[model.name]['true_positives'] += true_positives\n",
    "            counts[model.name]['predicted_positives'] += predicted_positives\n",
    "            counts[model.name]['possible_positives'] += possible_positives\n",
    "            print ('Testing for file {} / {} : datasetX/Y_{} - true +ve:{}  pred +ve:{} possible +ve:{}'.format(testIndex+1, numberOfFiles, listOfFiles[testIndex], true_positives,predicted_positives,possible_positives), end='\\r')\n",
    "    \n",
    "    for model in models:\n",
    "        count = counts[model.name]\n",
    "        precision = (count['true_positives'])/(count['predicted_positives']+0.0001)\n",
    "        recall = (count['true_positives'])/(count['possible_positives']+0.0001)\n",
    "        f1score = 2.0 * precision * recall / (precision+recall+0.0001)\n",
    "        print(' - Model = {} \\t f1-score = {:.4f}\\t precision = {:.4f} \\t recall = {:.4f}'.format(model.name, f1score, precision, recall))"
   ]
  },
  {
   "cell_type": "markdown",
   "metadata": {
    "deletable": true,
    "editable": true
   },
   "source": [
    "==================================================\n",
    "# inRel_1x10\n",
    "==================================================\n",
    "1. Eon 1/5\n",
    " - Model = Simple Logistic Regression \t f1-score = 0.4301\t precision = 0.8443 \t recall = 0.28864.0\n",
    " - Model = Deep Model (5 Dense Layers) \t f1-score = 0.7358\t precision = 0.7354 \t recall = 0.7364\n",
    " - Model = Deep Model (8 Dense Layers) \t f1-score = 0.7563\t precision = 0.7667 \t recall = 0.7463\n",
    "2. Eon 2/5\n",
    " - Model = Simple Logistic Regression \t f1-score = 0.5531\t precision = 0.8394 \t recall = 0.41254.0\n",
    " - Model = Deep Model (5 Dense Layers) \t f1-score = 0.7558\t precision = 0.7705 \t recall = 0.7417\n",
    " - Model = Deep Model (8 Dense Layers) \t f1-score = 0.7498\t precision = 0.7774 \t recall = 0.7242\n",
    "3. Eon 3/5\n",
    " - Model = Simple Logistic Regression \t f1-score = 0.6015\t precision = 0.8289 \t recall = 0.47214.0\n",
    " - Model = Deep Model (5 Dense Layers) \t f1-score = 0.7632\t precision = 0.7740 \t recall = 0.7529\n",
    " - Model = Deep Model (8 Dense Layers) \t f1-score = 0.7565\t precision = 0.7786 \t recall = 0.7357\n",
    "4. Eon 4/5\n",
    " - Model = Simple Logistic Regression \t f1-score = 0.6360\t precision = 0.8245 \t recall = 0.51774.0\n",
    " - Model = Deep Model (5 Dense Layers) \t f1-score = 0.7625\t precision = 0.7781 \t recall = 0.7476\n",
    " - Model = Deep Model (8 Dense Layers) \t f1-score = 0.7630\t precision = 0.7726 \t recall = 0.7537\n",
    "5. Eon 5/5\n",
    " - Model = Simple Logistic Regression \t f1-score = 0.6557\t precision = 0.8245 \t recall = 0.54444.0\n",
    " - Model = Deep Model (5 Dense Layers) \t f1-score = 0.7619\t precision = 0.7806 \t recall = 0.7442\n",
    " - Model = Deep Model (8 Dense Layers) \t f1-score = 0.7612\t precision = 0.7736 \t recall = 0.7493"
   ]
  },
  {
   "cell_type": "code",
   "execution_count": null,
   "metadata": {
    "collapsed": true,
    "deletable": true,
    "editable": true
   },
   "outputs": [],
   "source": []
  }
 ],
 "metadata": {
  "anaconda-cloud": {},
  "kernelspec": {
   "display_name": "Python 3",
   "language": "python",
   "name": "python3"
  },
  "language_info": {
   "codemirror_mode": {
    "name": "ipython",
    "version": 3
   },
   "file_extension": ".py",
   "mimetype": "text/x-python",
   "name": "python",
   "nbconvert_exporter": "python",
   "pygments_lexer": "ipython3",
   "version": "3.5.2"
  },
  "widgets": {
   "state": {},
   "version": "1.1.2"
  }
 },
 "nbformat": 4,
 "nbformat_minor": 1
}
