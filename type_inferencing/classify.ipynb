{
 "cells": [
  {
   "cell_type": "code",
   "execution_count": null,
   "metadata": {
    "collapsed": false,
    "deletable": true,
    "editable": true
   },
   "outputs": [],
   "source": [
    "from keras.models import Sequential\n",
    "from keras.layers import Dropout\n",
    "from keras.layers import Input, Dense, Activation,Dropout\n",
    "from keras import regularizers\n",
    "from keras.layers.advanced_activations import LeakyReLU\n",
    "from keras.layers.normalization import BatchNormalization\n",
    "import random\n",
    "import numpy as np\n",
    "# fix random seed for reproducibility\n",
    "np.random.seed(42)\n",
    "\n",
    "import pandas as pd  "
   ]
  },
  {
   "cell_type": "code",
   "execution_count": null,
   "metadata": {
    "collapsed": true,
    "deletable": true,
    "editable": true
   },
   "outputs": [],
   "source": [
    "#Folder for the dataset\n",
    "rootFolder = '/home/carnd/dbpedia2016/all4_2x125/'\n",
    "datasetFolder = rootFolder+'dataset/'\n",
    "\n",
    "#Number of files\n",
    "numberOfFiles = 638"
   ]
  },
  {
   "cell_type": "code",
   "execution_count": null,
   "metadata": {
    "collapsed": false,
    "deletable": true,
    "editable": true
   },
   "outputs": [],
   "source": [
    "def loadFeaturesAndTargets():\n",
    "    features = []\n",
    "    targetClasses = []\n",
    "    with open(rootFolder + 'headerX.csv', \"r\") as f:\n",
    "        head = f.readline() #skip header\n",
    "        f.readline() #skip id\n",
    "        cols = head.split(',')\n",
    "        for line in f:\n",
    "            str = line[0:line.rfind(',')]\n",
    "            features.append(str)\n",
    "        print('headerX.csv : {}'.format(len(features)))\n",
    "        f.close()\n",
    "    with open(rootFolder + 'headerY.csv', \"r\") as f:\n",
    "        head = f.readline() #skip header\n",
    "        f.readline() #skip id\n",
    "        cols = head.split(',')\n",
    "        for line in f:\n",
    "            row = line.split(',')\n",
    "            targetClasses.append(row[0])\n",
    "        print('headerY.csv : {}'.format(len(targetClasses)))\n",
    "        f.close()\n",
    "    return features, targetClasses\n",
    "features, targetClasses = loadFeaturesAndTargets()"
   ]
  },
  {
   "cell_type": "code",
   "execution_count": null,
   "metadata": {
    "collapsed": false,
    "deletable": true,
    "editable": true
   },
   "outputs": [],
   "source": [
    "def findFeaturesAndTargets(individuals, wrap=True):\n",
    "    '''\n",
    "        This function fill search for the individual in all the dataset.\n",
    "        It will then load the features and targets from the data for those individuals.\n",
    "    '''\n",
    "    numberOfCols = len(features)+1\n",
    "    if(wrap==True):\n",
    "        maxY = 8384\n",
    "    else:\n",
    "        maxY = numberOfCols-1\n",
    "    half=(numberOfCols//maxY)*0.5\n",
    "    #Initialize arrays\n",
    "    dataX = np.zeros([len(individuals),maxY],np.int8)\n",
    "    dataY = np.zeros([len(individuals),len(targetClasses)],np.float16)\n",
    "    index = [] \n",
    "    featuresLists = []\n",
    "    targetClassesLists = []\n",
    "    xRowCounter=0\n",
    "    yRowCounter=0\n",
    "    print('Loading...')\n",
    "    for fileIndex in range(0, numberOfFiles):\n",
    "        datasetXFile = 'datasetX_{}.csv'.format(fileIndex+1)\n",
    "        datasetYFile = 'datasetY_{}.csv'.format(fileIndex+1)\n",
    "        print('Searching in {}'.format(datasetXFile), end='\\r')\n",
    "        with open(datasetFolder + datasetXFile, \"r\") as f:\n",
    "            head = f.readline()# skip header\n",
    "            for line in f:\n",
    "                row=line.split(',')\n",
    "                identifier = row[0]\n",
    "                if(identifier in individuals):\n",
    "                    index.append(identifier)\n",
    "                    featuresList=[]\n",
    "                    for i in range(1, len(row)):\n",
    "                        if(int(row[i])<=0):\n",
    "                            continue;\n",
    "                        if(wrap == True):\n",
    "                            val = 1 + ((int(row[i])-1)//maxY);\n",
    "                            if(val>half):\n",
    "                                val = 0 - (val - half)\n",
    "                            dataX[xRowCounter][(int(row[i])-1)%maxY]= val\n",
    "                        else:\n",
    "                            dataX[xRowCounter][(int(row[i])-1)]=1\n",
    "                        featuresList.append(features[(int(row[i])-1)])\n",
    "                    featuresLists.append(featuresList)\n",
    "                    xRowCounter+=1\n",
    "            f.close()\n",
    "\n",
    "        with open(datasetFolder + datasetYFile, \"r\") as f:\n",
    "            head = f.readline() # skip header\n",
    "            for line in f:\n",
    "                row=line.split(',')\n",
    "                identifier = row[0]\n",
    "                if(identifier in individuals):\n",
    "                    targetClassesList=[]\n",
    "                    for i in range(1, len(row)):\n",
    "                        if(int(row[i])<=0):\n",
    "                            continue;\n",
    "                        dataY[yRowCounter][(int(row[i])-1)]=1\n",
    "                        targetClassesList.append(targetClasses[(int(row[i])-1)])\n",
    "                    targetClassesLists.append(targetClassesList)\n",
    "                    yRowCounter+=1\n",
    "            f.close()\n",
    "\n",
    "    #Return the index, the features, targets and example features\n",
    "    return index, dataX, dataY, featuresLists, targetClassesLists"
   ]
  },
  {
   "cell_type": "code",
   "execution_count": null,
   "metadata": {
    "collapsed": false,
    "deletable": true,
    "editable": true
   },
   "outputs": [],
   "source": [
    "#Get the data for the instances\n",
    "individuals = ['United_States', 'Washington__D_C_', 'Aristotle']\n",
    "index, dataX, dataY, featuresLists, targetClassesLists = findFeaturesAndTargets(individuals)\n",
    "\n",
    "print('Found: {}'.format(index))\n",
    "print('Feature: {}'.format(dataX.shape))\n",
    "print(dataX[0:5])\n",
    "print('Targets: {}'.format(dataY.shape))\n",
    "print(dataY[0:5])\n",
    "print('')"
   ]
  },
  {
   "cell_type": "code",
   "execution_count": null,
   "metadata": {
    "collapsed": false,
    "deletable": true,
    "editable": true
   },
   "outputs": [],
   "source": [
    "#For each individual, display the sample features & targets\n",
    "for i in range(0,len(index)):\n",
    "    individual = index[i]\n",
    "    print('Examples for {}: '.format(individual))\n",
    "    featureList = featuresLists[i]\n",
    "    targetList = targetClassesLists[i]\n",
    "    row = dataX[i]\n",
    "    numberOfExamples=5\n",
    "    print('\\tFeatures: (upto {} of {})'.format(numberOfExamples, len(featureList)) )\n",
    "    if(len(featureList)>numberOfExamples):\n",
    "        sample = random.sample(featureList, numberOfExamples)\n",
    "    else:\n",
    "        sample = featureList\n",
    "    for k in range(0, len(sample)):\n",
    "        if(k>=numberOfExamples): break\n",
    "        print('\\t\\t{}'.format(sample[k]))\n",
    "    print('\\tTypes: (upto {} of {})'.format(numberOfExamples, len(targetList)))\n",
    "    if(len(targetList)>numberOfExamples):\n",
    "        sample = random.sample(targetList, numberOfExamples)\n",
    "    else:\n",
    "        sample = targetList\n",
    "    for k in range(0, len(sample)):\n",
    "        if(k>=numberOfExamples): break\n",
    "        print('\\t\\t{}'.format(sample[k]))\n",
    "    print('')"
   ]
  },
  {
   "cell_type": "code",
   "execution_count": null,
   "metadata": {
    "collapsed": true,
    "deletable": true,
    "editable": true
   },
   "outputs": [],
   "source": [
    "#Load the model\n",
    "from keras.models import load_model\n",
    "model = load_model('deepModelDBpediaOntologyTypes.h5')"
   ]
  },
  {
   "cell_type": "code",
   "execution_count": null,
   "metadata": {
    "collapsed": false,
    "deletable": true,
    "editable": true
   },
   "outputs": [],
   "source": [
    "#Predict the classes\n",
    "predY = model.predict_on_batch(dataX)\n",
    "\n",
    "##Print the predicted classes for each individual\n",
    "for i in range(0,len(index)):\n",
    "    individual = index[i]\n",
    "    print('Predicted classes for {}: '.format(individual))\n",
    "    targetList = []\n",
    "    row = predY[i]\n",
    "    for j in range(0,len(row)):\n",
    "        if(row[j]>=0.5):\n",
    "            targetList.append(targetClasses[j])\n",
    "    for k in range(0, len(targetList)):\n",
    "        print('\\t\\t{}'.format(targetList[k]))\n",
    "    print('')"
   ]
  }
 ],
 "metadata": {
  "kernelspec": {
   "display_name": "Python 3",
   "language": "python",
   "name": "python3"
  },
  "language_info": {
   "codemirror_mode": {
    "name": "ipython",
    "version": 3
   },
   "file_extension": ".py",
   "mimetype": "text/x-python",
   "name": "python",
   "nbconvert_exporter": "python",
   "pygments_lexer": "ipython3",
   "version": "3.5.2"
  },
  "widgets": {
   "state": {},
   "version": "1.1.2"
  }
 },
 "nbformat": 4,
 "nbformat_minor": 2
}
